{
  "nbformat": 4,
  "nbformat_minor": 0,
  "metadata": {
    "colab": {
      "provenance": [],
      "include_colab_link": true
    },
    "kernelspec": {
      "name": "python3",
      "display_name": "Python 3"
    },
    "language_info": {
      "name": "python"
    }
  },
  "cells": [
    {
      "cell_type": "markdown",
      "metadata": {
        "id": "view-in-github",
        "colab_type": "text"
      },
      "source": [
        "<a href=\"https://colab.research.google.com/github/a01706447/TI3002C_AD22/blob/MONTY/Mapas_calor_MONTY.ipynb\" target=\"_parent\"><img src=\"https://colab.research.google.com/assets/colab-badge.svg\" alt=\"Open In Colab\"/></a>"
      ]
    },
    {
      "cell_type": "markdown",
      "source": [
        "#Actividad Evaluable: Mapas de calor y boxplots\n",
        "\n",
        "Miembros del equipo ‘MONTY’: \n",
        "\n",
        "María Luisa Benítez Guerrero\t\tA01706447\n",
        "\n",
        "José Xavier Higuera Alanis \t\tA01204670\n",
        "\n",
        "Maximiliano Aragón Fragoso\t\tA01702063\n",
        "\n",
        "Gerardo Sanchezbenitez Ballesteros\tA01705306"
      ],
      "metadata": {
        "id": "A3F8lH8wSFsH"
      }
    },
    {
      "cell_type": "code",
      "execution_count": null,
      "metadata": {
        "id": "IGl56zn-SFHu"
      },
      "outputs": [],
      "source": [
        "#!pip install seaborn\n",
        "#!pip install plotly\n",
        "\n",
        "import plotly\n",
        "plotly.__version__\n",
        "import matplotlib.pyplot as plt\n",
        "import seaborn as sns\n",
        "import pandas as pd\n",
        "import numpy as np\n",
        "from datetime import date, time, datetime, timedelta\n",
        "import plotly.express as px\n",
        "import plotly.figure_factory as ff\n",
        "import plotly.graph_objects as go"
      ]
    },
    {
      "cell_type": "code",
      "source": [
        "df = pd.read_csv('TEMPXMLFILEDATA.csv')\n",
        "df.head()"
      ],
      "metadata": {
        "id": "ILdThAS4Tw4H",
        "colab": {
          "base_uri": "https://localhost:8080/",
          "height": 594
        },
        "outputId": "ac4355de-0474-4285-cffa-a329335f1ef1"
      },
      "execution_count": null,
      "outputs": [
        {
          "output_type": "stream",
          "name": "stderr",
          "text": [
            "/usr/local/lib/python3.7/dist-packages/IPython/core/interactiveshell.py:3326: DtypeWarning: Columns (13,15,17,26,31) have mixed types.Specify dtype option on import or set low_memory=False.\n",
            "  exec(code_obj, self.user_global_ns, self.user_ns)\n"
          ]
        },
        {
          "output_type": "execute_result",
          "data": {
            "text/plain": [
              "   XMLFILEID  COMPANYID  BRANCHID  CUSTOMERID                 DATE  \\\n",
              "0          1       1000         1           2  2017-12-08 18:07:37   \n",
              "1          2       1000         1           2  2017-12-01 13:41:25   \n",
              "2          3       1000         1           2  2017-12-15 18:08:27   \n",
              "3          4       1000         1           2  2017-12-01 02:12:33   \n",
              "4          5       1000         1           2  2017-12-28 06:02:16   \n",
              "\n",
              "  INVOICETYPE   CREATEDTAXID                             CREATEDBY  \\\n",
              "0     ingreso  GAHC840728IM3  Instituto Mexicano del Seguro Social   \n",
              "1      egreso  GAHC840728IM3        CARLOS ENRIQUE *GARCIA HERRERA   \n",
              "2      egreso  GAHC840728IM3         CARLOS ENRIQUE GARCIA HERRERA   \n",
              "3      egreso  GAHC840728IM3         CARLOS ENRIQUE GARCIA HERRERA   \n",
              "4      egreso  GAHC840728IM3         CARLOS ENRIQUE GARCIA HERRERA   \n",
              "\n",
              "  RECEIVEDTAXID                                         RECEIVEDBY  ...  \\\n",
              "0  IMS421231I45                      GARCIA HERRERA CARLOS ENRIQUE  ...   \n",
              "1  HMI950125KG8  HSBC MEXICO, S.A. INSTITUCION DE BANCA MULTIPL...  ...   \n",
              "2  CJL1011123Z6      COMERCIALIZADORA JINKJET LASSER, S.A. DE C.V.  ...   \n",
              "3  HMI950125KG8  HSBC MEXICO, S.A. INSTITUCION DE BANCA MULTIPL...  ...   \n",
              "4  OHN110509AE3               OPERADORA DE HOTELES NUALVA SA de CV  ...   \n",
              "\n",
              "                  CREATEDDATE  DELETESTATUS  FILETYPE AMOUNTPAID  \\\n",
              "0  2018-01-11 21:54:53.970000         False         P        NaN   \n",
              "1  2018-01-11 21:54:54.100000         False         O        NaN   \n",
              "2  2018-01-11 21:54:54.120000         False         O        NaN   \n",
              "3  2018-01-11 21:54:54.270000         False         O        NaN   \n",
              "4  2018-01-11 21:54:54.443000         False         O        NaN   \n",
              "\n",
              "   ISPAYMENTPENDING INVOICETYPE_INITIAL  PAYMETHODCODE  \\\n",
              "0               NaN                   i            NaN   \n",
              "1               NaN                   e            NaN   \n",
              "2               NaN                   e            NaN   \n",
              "3               NaN                   e            NaN   \n",
              "4               NaN                   e            NaN   \n",
              "\n",
              "  INVOICETYPE_INITIAL_ORIGINAL  XMLIEPSTAX  XMLCURRENCY  \n",
              "0                          NaN         NaN          NaN  \n",
              "1                          NaN         NaN          NaN  \n",
              "2                          NaN         NaN          NaN  \n",
              "3                          NaN         NaN          NaN  \n",
              "4                          NaN         NaN          NaN  \n",
              "\n",
              "[5 rows x 32 columns]"
            ],
            "text/html": [
              "\n",
              "  <div id=\"df-de68b7ef-bdcf-4feb-97e4-69f3a90ec027\">\n",
              "    <div class=\"colab-df-container\">\n",
              "      <div>\n",
              "<style scoped>\n",
              "    .dataframe tbody tr th:only-of-type {\n",
              "        vertical-align: middle;\n",
              "    }\n",
              "\n",
              "    .dataframe tbody tr th {\n",
              "        vertical-align: top;\n",
              "    }\n",
              "\n",
              "    .dataframe thead th {\n",
              "        text-align: right;\n",
              "    }\n",
              "</style>\n",
              "<table border=\"1\" class=\"dataframe\">\n",
              "  <thead>\n",
              "    <tr style=\"text-align: right;\">\n",
              "      <th></th>\n",
              "      <th>XMLFILEID</th>\n",
              "      <th>COMPANYID</th>\n",
              "      <th>BRANCHID</th>\n",
              "      <th>CUSTOMERID</th>\n",
              "      <th>DATE</th>\n",
              "      <th>INVOICETYPE</th>\n",
              "      <th>CREATEDTAXID</th>\n",
              "      <th>CREATEDBY</th>\n",
              "      <th>RECEIVEDTAXID</th>\n",
              "      <th>RECEIVEDBY</th>\n",
              "      <th>...</th>\n",
              "      <th>CREATEDDATE</th>\n",
              "      <th>DELETESTATUS</th>\n",
              "      <th>FILETYPE</th>\n",
              "      <th>AMOUNTPAID</th>\n",
              "      <th>ISPAYMENTPENDING</th>\n",
              "      <th>INVOICETYPE_INITIAL</th>\n",
              "      <th>PAYMETHODCODE</th>\n",
              "      <th>INVOICETYPE_INITIAL_ORIGINAL</th>\n",
              "      <th>XMLIEPSTAX</th>\n",
              "      <th>XMLCURRENCY</th>\n",
              "    </tr>\n",
              "  </thead>\n",
              "  <tbody>\n",
              "    <tr>\n",
              "      <th>0</th>\n",
              "      <td>1</td>\n",
              "      <td>1000</td>\n",
              "      <td>1</td>\n",
              "      <td>2</td>\n",
              "      <td>2017-12-08 18:07:37</td>\n",
              "      <td>ingreso</td>\n",
              "      <td>GAHC840728IM3</td>\n",
              "      <td>Instituto Mexicano del Seguro Social</td>\n",
              "      <td>IMS421231I45</td>\n",
              "      <td>GARCIA HERRERA CARLOS ENRIQUE</td>\n",
              "      <td>...</td>\n",
              "      <td>2018-01-11 21:54:53.970000</td>\n",
              "      <td>False</td>\n",
              "      <td>P</td>\n",
              "      <td>NaN</td>\n",
              "      <td>NaN</td>\n",
              "      <td>i</td>\n",
              "      <td>NaN</td>\n",
              "      <td>NaN</td>\n",
              "      <td>NaN</td>\n",
              "      <td>NaN</td>\n",
              "    </tr>\n",
              "    <tr>\n",
              "      <th>1</th>\n",
              "      <td>2</td>\n",
              "      <td>1000</td>\n",
              "      <td>1</td>\n",
              "      <td>2</td>\n",
              "      <td>2017-12-01 13:41:25</td>\n",
              "      <td>egreso</td>\n",
              "      <td>GAHC840728IM3</td>\n",
              "      <td>CARLOS ENRIQUE *GARCIA HERRERA</td>\n",
              "      <td>HMI950125KG8</td>\n",
              "      <td>HSBC MEXICO, S.A. INSTITUCION DE BANCA MULTIPL...</td>\n",
              "      <td>...</td>\n",
              "      <td>2018-01-11 21:54:54.100000</td>\n",
              "      <td>False</td>\n",
              "      <td>O</td>\n",
              "      <td>NaN</td>\n",
              "      <td>NaN</td>\n",
              "      <td>e</td>\n",
              "      <td>NaN</td>\n",
              "      <td>NaN</td>\n",
              "      <td>NaN</td>\n",
              "      <td>NaN</td>\n",
              "    </tr>\n",
              "    <tr>\n",
              "      <th>2</th>\n",
              "      <td>3</td>\n",
              "      <td>1000</td>\n",
              "      <td>1</td>\n",
              "      <td>2</td>\n",
              "      <td>2017-12-15 18:08:27</td>\n",
              "      <td>egreso</td>\n",
              "      <td>GAHC840728IM3</td>\n",
              "      <td>CARLOS ENRIQUE GARCIA HERRERA</td>\n",
              "      <td>CJL1011123Z6</td>\n",
              "      <td>COMERCIALIZADORA JINKJET LASSER, S.A. DE C.V.</td>\n",
              "      <td>...</td>\n",
              "      <td>2018-01-11 21:54:54.120000</td>\n",
              "      <td>False</td>\n",
              "      <td>O</td>\n",
              "      <td>NaN</td>\n",
              "      <td>NaN</td>\n",
              "      <td>e</td>\n",
              "      <td>NaN</td>\n",
              "      <td>NaN</td>\n",
              "      <td>NaN</td>\n",
              "      <td>NaN</td>\n",
              "    </tr>\n",
              "    <tr>\n",
              "      <th>3</th>\n",
              "      <td>4</td>\n",
              "      <td>1000</td>\n",
              "      <td>1</td>\n",
              "      <td>2</td>\n",
              "      <td>2017-12-01 02:12:33</td>\n",
              "      <td>egreso</td>\n",
              "      <td>GAHC840728IM3</td>\n",
              "      <td>CARLOS ENRIQUE GARCIA HERRERA</td>\n",
              "      <td>HMI950125KG8</td>\n",
              "      <td>HSBC MEXICO, S.A. INSTITUCION DE BANCA MULTIPL...</td>\n",
              "      <td>...</td>\n",
              "      <td>2018-01-11 21:54:54.270000</td>\n",
              "      <td>False</td>\n",
              "      <td>O</td>\n",
              "      <td>NaN</td>\n",
              "      <td>NaN</td>\n",
              "      <td>e</td>\n",
              "      <td>NaN</td>\n",
              "      <td>NaN</td>\n",
              "      <td>NaN</td>\n",
              "      <td>NaN</td>\n",
              "    </tr>\n",
              "    <tr>\n",
              "      <th>4</th>\n",
              "      <td>5</td>\n",
              "      <td>1000</td>\n",
              "      <td>1</td>\n",
              "      <td>2</td>\n",
              "      <td>2017-12-28 06:02:16</td>\n",
              "      <td>egreso</td>\n",
              "      <td>GAHC840728IM3</td>\n",
              "      <td>CARLOS ENRIQUE GARCIA HERRERA</td>\n",
              "      <td>OHN110509AE3</td>\n",
              "      <td>OPERADORA DE HOTELES NUALVA SA de CV</td>\n",
              "      <td>...</td>\n",
              "      <td>2018-01-11 21:54:54.443000</td>\n",
              "      <td>False</td>\n",
              "      <td>O</td>\n",
              "      <td>NaN</td>\n",
              "      <td>NaN</td>\n",
              "      <td>e</td>\n",
              "      <td>NaN</td>\n",
              "      <td>NaN</td>\n",
              "      <td>NaN</td>\n",
              "      <td>NaN</td>\n",
              "    </tr>\n",
              "  </tbody>\n",
              "</table>\n",
              "<p>5 rows × 32 columns</p>\n",
              "</div>\n",
              "      <button class=\"colab-df-convert\" onclick=\"convertToInteractive('df-de68b7ef-bdcf-4feb-97e4-69f3a90ec027')\"\n",
              "              title=\"Convert this dataframe to an interactive table.\"\n",
              "              style=\"display:none;\">\n",
              "        \n",
              "  <svg xmlns=\"http://www.w3.org/2000/svg\" height=\"24px\"viewBox=\"0 0 24 24\"\n",
              "       width=\"24px\">\n",
              "    <path d=\"M0 0h24v24H0V0z\" fill=\"none\"/>\n",
              "    <path d=\"M18.56 5.44l.94 2.06.94-2.06 2.06-.94-2.06-.94-.94-2.06-.94 2.06-2.06.94zm-11 1L8.5 8.5l.94-2.06 2.06-.94-2.06-.94L8.5 2.5l-.94 2.06-2.06.94zm10 10l.94 2.06.94-2.06 2.06-.94-2.06-.94-.94-2.06-.94 2.06-2.06.94z\"/><path d=\"M17.41 7.96l-1.37-1.37c-.4-.4-.92-.59-1.43-.59-.52 0-1.04.2-1.43.59L10.3 9.45l-7.72 7.72c-.78.78-.78 2.05 0 2.83L4 21.41c.39.39.9.59 1.41.59.51 0 1.02-.2 1.41-.59l7.78-7.78 2.81-2.81c.8-.78.8-2.07 0-2.86zM5.41 20L4 18.59l7.72-7.72 1.47 1.35L5.41 20z\"/>\n",
              "  </svg>\n",
              "      </button>\n",
              "      \n",
              "  <style>\n",
              "    .colab-df-container {\n",
              "      display:flex;\n",
              "      flex-wrap:wrap;\n",
              "      gap: 12px;\n",
              "    }\n",
              "\n",
              "    .colab-df-convert {\n",
              "      background-color: #E8F0FE;\n",
              "      border: none;\n",
              "      border-radius: 50%;\n",
              "      cursor: pointer;\n",
              "      display: none;\n",
              "      fill: #1967D2;\n",
              "      height: 32px;\n",
              "      padding: 0 0 0 0;\n",
              "      width: 32px;\n",
              "    }\n",
              "\n",
              "    .colab-df-convert:hover {\n",
              "      background-color: #E2EBFA;\n",
              "      box-shadow: 0px 1px 2px rgba(60, 64, 67, 0.3), 0px 1px 3px 1px rgba(60, 64, 67, 0.15);\n",
              "      fill: #174EA6;\n",
              "    }\n",
              "\n",
              "    [theme=dark] .colab-df-convert {\n",
              "      background-color: #3B4455;\n",
              "      fill: #D2E3FC;\n",
              "    }\n",
              "\n",
              "    [theme=dark] .colab-df-convert:hover {\n",
              "      background-color: #434B5C;\n",
              "      box-shadow: 0px 1px 3px 1px rgba(0, 0, 0, 0.15);\n",
              "      filter: drop-shadow(0px 1px 2px rgba(0, 0, 0, 0.3));\n",
              "      fill: #FFFFFF;\n",
              "    }\n",
              "  </style>\n",
              "\n",
              "      <script>\n",
              "        const buttonEl =\n",
              "          document.querySelector('#df-de68b7ef-bdcf-4feb-97e4-69f3a90ec027 button.colab-df-convert');\n",
              "        buttonEl.style.display =\n",
              "          google.colab.kernel.accessAllowed ? 'block' : 'none';\n",
              "\n",
              "        async function convertToInteractive(key) {\n",
              "          const element = document.querySelector('#df-de68b7ef-bdcf-4feb-97e4-69f3a90ec027');\n",
              "          const dataTable =\n",
              "            await google.colab.kernel.invokeFunction('convertToInteractive',\n",
              "                                                     [key], {});\n",
              "          if (!dataTable) return;\n",
              "\n",
              "          const docLinkHtml = 'Like what you see? Visit the ' +\n",
              "            '<a target=\"_blank\" href=https://colab.research.google.com/notebooks/data_table.ipynb>data table notebook</a>'\n",
              "            + ' to learn more about interactive tables.';\n",
              "          element.innerHTML = '';\n",
              "          dataTable['output_type'] = 'display_data';\n",
              "          await google.colab.output.renderOutput(dataTable, element);\n",
              "          const docLink = document.createElement('div');\n",
              "          docLink.innerHTML = docLinkHtml;\n",
              "          element.appendChild(docLink);\n",
              "        }\n",
              "      </script>\n",
              "    </div>\n",
              "  </div>\n",
              "  "
            ]
          },
          "metadata": {},
          "execution_count": 30
        }
      ]
    },
    {
      "cell_type": "code",
      "source": [
        "df.info()"
      ],
      "metadata": {
        "colab": {
          "base_uri": "https://localhost:8080/"
        },
        "id": "gxHIBQ-uV1Lu",
        "outputId": "6965a979-8eae-4449-9c8a-e071029b0f3f"
      },
      "execution_count": null,
      "outputs": [
        {
          "output_type": "stream",
          "name": "stdout",
          "text": [
            "<class 'pandas.core.frame.DataFrame'>\n",
            "RangeIndex: 161040 entries, 0 to 161039\n",
            "Data columns (total 32 columns):\n",
            " #   Column                        Non-Null Count   Dtype  \n",
            "---  ------                        --------------   -----  \n",
            " 0   XMLFILEID                     161040 non-null  int64  \n",
            " 1   COMPANYID                     161040 non-null  int64  \n",
            " 2   BRANCHID                      161040 non-null  int64  \n",
            " 3   CUSTOMERID                    161040 non-null  int64  \n",
            " 4   DATE                          161040 non-null  object \n",
            " 5   INVOICETYPE                   161040 non-null  object \n",
            " 6   CREATEDTAXID                  161040 non-null  object \n",
            " 7   CREATEDBY                     158575 non-null  object \n",
            " 8   RECEIVEDTAXID                 161040 non-null  object \n",
            " 9   RECEIVEDBY                    160236 non-null  object \n",
            " 10  PRODUCTDESC                   161040 non-null  object \n",
            " 11  TOTALTAXTRASADAS              141005 non-null  float64\n",
            " 12  TOTALREGISTERTAX              61349 non-null   float64\n",
            " 13  VATTAX                        11808 non-null   object \n",
            " 14  VATAMOUNT                     157101 non-null  float64\n",
            " 15  INCOMETAX                     2522 non-null    object \n",
            " 16  INCOMETAXAMT                  157078 non-null  float64\n",
            " 17  VAT                           130871 non-null  object \n",
            " 18  VATAMT                        160809 non-null  float64\n",
            " 19  TOTALBEFORTAX                 161040 non-null  float64\n",
            " 20  TOTALAFTERTAX                 161040 non-null  float64\n",
            " 21  TRANSACTIONID                 161040 non-null  object \n",
            " 22  CREATEDDATE                   161040 non-null  object \n",
            " 23  DELETESTATUS                  161040 non-null  bool   \n",
            " 24  FILETYPE                      160668 non-null  object \n",
            " 25  AMOUNTPAID                    155750 non-null  float64\n",
            " 26  ISPAYMENTPENDING              155750 non-null  object \n",
            " 27  INVOICETYPE_INITIAL           160934 non-null  object \n",
            " 28  PAYMETHODCODE                 132918 non-null  object \n",
            " 29  INVOICETYPE_INITIAL_ORIGINAL  153806 non-null  object \n",
            " 30  XMLIEPSTAX                    58458 non-null   float64\n",
            " 31  XMLCURRENCY                   14262 non-null   object \n",
            "dtypes: bool(1), float64(9), int64(4), object(18)\n",
            "memory usage: 38.2+ MB\n"
          ]
        }
      ]
    },
    {
      "cell_type": "code",
      "source": [
        "sns.histplot(data=df, x='CUSTOMERID')"
      ],
      "metadata": {
        "colab": {
          "base_uri": "https://localhost:8080/",
          "height": 297
        },
        "id": "cF9Baa05V4p7",
        "outputId": "77a1c26c-74cb-4452-ffc8-3d406591884d"
      },
      "execution_count": null,
      "outputs": [
        {
          "output_type": "execute_result",
          "data": {
            "text/plain": [
              "<matplotlib.axes._subplots.AxesSubplot at 0x7fa3746a1fd0>"
            ]
          },
          "metadata": {},
          "execution_count": 32
        },
        {
          "output_type": "display_data",
          "data": {
            "text/plain": [
              "<Figure size 432x288 with 1 Axes>"
            ],
            "image/png": "[encoded data removed]"
          },
          "metadata": {
            "needs_background": "light"
          }
        }
      ]
    },
    {
      "cell_type": "code",
      "source": [
        "data = df[df['CUSTOMERID']==125]\n",
        "\n",
        "sns.displot(data=data, x='VATAMOUNT', hue='PAYMETHODCODE')"
      ],
      "metadata": {
        "colab": {
          "base_uri": "https://localhost:8080/",
          "height": 386
        },
        "id": "NY_P3cSOWiOW",
        "outputId": "12e3f71f-70cc-46ed-c078-696f63a55c64"
      },
      "execution_count": null,
      "outputs": [
        {
          "output_type": "execute_result",
          "data": {
            "text/plain": [
              "<seaborn.axisgrid.FacetGrid at 0x7fa375e88ad0>"
            ]
          },
          "metadata": {},
          "execution_count": 33
        },
        {
          "output_type": "display_data",
          "data": {
            "text/plain": [
              "<Figure size 458x360 with 1 Axes>"
            ],
            "image/png": "[encoded data removed]"
          },
          "metadata": {
            "needs_background": "light"
          }
        }
      ]
    },
    {
      "cell_type": "code",
      "source": [
        "sns.boxplot(data=data, y=\"AMOUNTPAID\", x = 'INVOICETYPE').set(title='BMI across multiple species/genders')"
      ],
      "metadata": {
        "colab": {
          "base_uri": "https://localhost:8080/",
          "height": 313
        },
        "id": "CY_VuZ6zank3",
        "outputId": "2f3043a6-b266-46be-c53d-ac12c28e70f8"
      },
      "execution_count": null,
      "outputs": [
        {
          "output_type": "execute_result",
          "data": {
            "text/plain": [
              "[Text(0.5, 1.0, 'BMI across multiple species/genders')]"
            ]
          },
          "metadata": {},
          "execution_count": 43
        },
        {
          "output_type": "display_data",
          "data": {
            "text/plain": [
              "<Figure size 432x288 with 1 Axes>"
            ],
            "image/png": "[encoded data removed]"
          },
          "metadata": {
            "needs_background": "light"
          }
        }
      ]
    },
    {
      "cell_type": "code",
      "source": [
        "sns.heatmap(data.corr())"
      ],
      "metadata": {
        "colab": {
          "base_uri": "https://localhost:8080/",
          "height": 380
        },
        "id": "KhvF1A5WdMJ7",
        "outputId": "847696f9-ce75-4fed-eb3e-1b9883a44e31"
      },
      "execution_count": null,
      "outputs": [
        {
          "output_type": "execute_result",
          "data": {
            "text/plain": [
              "<matplotlib.axes._subplots.AxesSubplot at 0x7fa36fe1be90>"
            ]
          },
          "metadata": {},
          "execution_count": 45
        },
        {
          "output_type": "display_data",
          "data": {
            "text/plain": [
              "<Figure size 432x288 with 2 Axes>"
            ],
            "image/png": "[encoded data removed]"
          },
          "metadata": {
            "needs_background": "light"
          }
        }
      ]
    },
    {
      "cell_type": "markdown",
      "source": [
        "Responde las siguientes preguntas:\n",
        "\n",
        "¿Hay alguna variable que no aporta información?\n",
        "\n",
        "R = Las variables que no aportan información son *COMPANYID* y *BRANCHID*\n",
        "\n",
        "Si tuvieras que eliminar variables, ¿cuáles quitarías y por qué?\n",
        "\n",
        "R = Como mencionado anteriormente, *COMPANYID* y *BRANCHID* realmente no aportan información, por lo que podríamos quitarlas. datos como *INCOMETAX* y *XMLCURRENCY*, que tienen un porcentaje de valores no-nulos muy pequeño, quizá no aportarían mucho, por lo que podríamos eliminarlos.\n",
        "\n",
        "¿Existen variables que tengan datos extraños?\n",
        "\n",
        "R = Sí, existen variables como *AMOUNTPAID* que tienen valores atípicos, lo cual pudiera ser verdadero, pero igualmente podrían ser un error. También valores categóricos como *INVOICETYPE*, que deberían estar sólo separados en egreso e ingreso, pero tienen más categorías, como p y P.\n",
        "\n",
        "Si comparas las variables, ¿todas están en rangos similares? ¿Crees que esto afecte?\n",
        "\n",
        "R = No, existen unos rangos distintos a otros, especialmente porque se trata de transacciones financieras, y como hay distintos clientes, cada uno tiene valores completamente distintos de cantidades que manejan.\n",
        "\n",
        "¿Puedes encontrar grupos qué se parezcan? ¿Qué grupos son estos?\n",
        "\n",
        "R = Sí, por ejemplo, *CREATEDTAXID* y *RECEIVEDTAXID* se refieren a un RFC, que es del mismo tipo, pero uno es del emisor y otro es del receptor. También por ejemplo, *TOTALAFTERTAX*, *TOTALBEFORETAX*, *VATAMOUNT*, entre otras variables, se refieren a cantidades de dinero, por lo que pueden ser comparables y se pueden realizar análisis entre ellos.\n"
      ],
      "metadata": {
        "id": "av5rct6aSWG3"
      }
    }
  ]
}